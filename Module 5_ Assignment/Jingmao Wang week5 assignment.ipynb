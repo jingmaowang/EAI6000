{
 "cells": [
  {
   "cell_type": "code",
   "execution_count": 166,
   "id": "ba1987bc",
   "metadata": {},
   "outputs": [],
   "source": [
    "from numpy import mean\n",
    "from numpy import std\n",
    "from sklearn.datasets import make_classification\n",
    "from sklearn.model_selection import KFold\n",
    "from sklearn.model_selection import cross_val_score\n",
    "from sklearn.linear_model import LogisticRegression\n",
    "from scipy.stats import sem\n",
    "from numpy import mean\n",
    "from numpy import std\n",
    "import matplotlib.pyplot as plt"
   ]
  },
  {
   "cell_type": "code",
   "execution_count": 167,
   "id": "20ceabb8",
   "metadata": {},
   "outputs": [
    {
     "name": "stdout",
     "output_type": "stream",
     "text": [
      "Accuracy: 0.779 (0.029)\n"
     ]
    }
   ],
   "source": [
    "# create dataset\n",
    "X, y = make_classification(n_samples=1500, n_features=20, n_informative=15, n_redundant=5, random_state=1)\n",
    "\n",
    "# prepare the cross-validation procedure\n",
    "cv_KFold = KFold(n_splits=10, random_state=1, shuffle=True)\n",
    "\n",
    "# create model\n",
    "model = LogisticRegression()\n",
    "\n",
    "# evaluate model\n",
    "scores_KFold = cross_val_score(model, X, y, scoring='accuracy', cv=cv_KFold, n_jobs=-1)\n",
    "\n",
    "# report performance\n",
    "print('Accuracy: %.3f (%.3f)' % (mean(scores_KFold), std(scores_KFold)))"
   ]
  },
  {
   "cell_type": "code",
   "execution_count": 168,
   "id": "b88faabe",
   "metadata": {},
   "outputs": [],
   "source": [
    "from sklearn.model_selection import RepeatedKFold  # use RepeatedKFold to improve the accuracy"
   ]
  },
  {
   "cell_type": "code",
   "execution_count": 169,
   "id": "85a223d6",
   "metadata": {},
   "outputs": [
    {
     "name": "stdout",
     "output_type": "stream",
     "text": [
      "Accuracy: 0.780 (0.037)\n"
     ]
    }
   ],
   "source": [
    "# prepare the Repeated K-Fold procedure\n",
    "cv_Repeate = RepeatedKFold(n_splits=10, n_repeats=6, random_state=1)\n",
    "\n",
    "# evaluate model\n",
    "scores_RepeatedKFold = cross_val_score(model, X, y, scoring='accuracy', cv=cv_Repeate, n_jobs=-1)\n",
    "\n",
    "# report performance\n",
    "print('Accuracy: %.3f (%.3f)' % (mean(scores_RepeatedKFold), std(scores_RepeatedKFold)))"
   ]
  },
  {
   "cell_type": "markdown",
   "id": "0b2644c5",
   "metadata": {},
   "source": [
    "### above we use repeatedKFold to improve the accuracy, but we don't know how to choose the values of n_repeats. We need to find the relationship between n_ repeats and the accuracy of the model to determine the relationship between them"
   ]
  },
  {
   "cell_type": "code",
   "execution_count": 170,
   "id": "da44cfc8",
   "metadata": {},
   "outputs": [],
   "source": [
    "# evaluate a model with a given number of repeats\n",
    "def evaluate_model(X, y, repeats):\n",
    " # prepare the cross-validation procedure\n",
    " cv = RepeatedKFold(n_splits=10, n_repeats=repeats, random_state=1)\n",
    " # evaluate model\n",
    " scores = cross_val_score(model, X, y, scoring='accuracy', cv=cv, n_jobs=-1)\n",
    " return scores"
   ]
  },
  {
   "cell_type": "code",
   "execution_count": 171,
   "id": "4406a0c3",
   "metadata": {},
   "outputs": [
    {
     "name": "stdout",
     "output_type": "stream",
     "text": [
      ">1 mean=0.7787 se=0.010\n",
      ">2 mean=0.7790 se=0.007\n",
      ">3 mean=0.7796 se=0.005\n",
      ">4 mean=0.7802 se=0.005\n",
      ">5 mean=0.7811 se=0.005\n",
      ">6 mean=0.7803 se=0.005\n",
      ">7 mean=0.7807 se=0.004\n",
      ">8 mean=0.7810 se=0.004\n",
      ">9 mean=0.7808 se=0.004\n",
      ">10 mean=0.7805 se=0.004\n",
      ">11 mean=0.7806 se=0.003\n",
      ">12 mean=0.7807 se=0.003\n",
      ">13 mean=0.7804 se=0.003\n",
      ">14 mean=0.7804 se=0.003\n"
     ]
    },
    {
     "data": {
      "image/png": "[encoded data removed]",
      "text/plain": [
       "<Figure size 1000x500 with 1 Axes>"
      ]
     },
     "metadata": {},
     "output_type": "display_data"
    }
   ],
   "source": [
    "# configurations to test\n",
    "repeats = range(1,15)\n",
    "results = list()\n",
    "\n",
    "for r in repeats:\n",
    " # evaluate using a given number of repeats\n",
    " scores = evaluate_model(X, y, r)\n",
    " # summarize\n",
    " print('>%d mean=%.4f se=%.3f' % (r, mean(scores), sem(scores)))\n",
    " # store\n",
    " results.append(scores)\n",
    "# plot the results\n",
    "plt.figure(figsize=(10,5))\n",
    "plt.boxplot(results, labels=[str(r) for r in repeats], showmeans=True)\n",
    "plt.show()"
   ]
  },
  {
   "cell_type": "markdown",
   "id": "dc91d056",
   "metadata": {},
   "source": [
    "## According to mean, se and graph, ' n_repeats = 6 ' seems to be a good choice."
   ]
  },
  {
   "cell_type": "code",
   "execution_count": null,
   "id": "e84583e5",
   "metadata": {},
   "outputs": [],
   "source": []
  },
  {
   "cell_type": "code",
   "execution_count": null,
   "id": "1239aac2",
   "metadata": {},
   "outputs": [],
   "source": []
  }
 ],
 "metadata": {
  "kernelspec": {
   "display_name": "Python 3 (ipykernel)",
   "language": "python",
   "name": "python3"
  },
  "language_info": {
   "codemirror_mode": {
    "name": "ipython",
    "version": 3
   },
   "file_extension": ".py",
   "mimetype": "text/x-python",
   "name": "python",
   "nbconvert_exporter": "python",
   "pygments_lexer": "ipython3",
   "version": "3.9.12"
  }
 },
 "nbformat": 4,
 "nbformat_minor": 5
}
